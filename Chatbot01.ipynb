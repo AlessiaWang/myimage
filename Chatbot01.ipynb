{
 "cells": [
  {
   "cell_type": "markdown",
   "id": "b83a690d-0416-41d1-907d-d4a0239af624",
   "metadata": {},
   "source": [
    "#### **Notice:** <span style=\"color:red\">Read the file</span> `Program_Setting_Up_Guide.ipynb` before running the codes in this notebook.\n",
    "\n",
    "# Chatbot 01\n",
    "### For experimental condition 1 - Informative Guidance\n",
    "\n",
    "This Python notebook file is written by **Yilan Wang** (Student Number: 12813168), a student in the research master's programme of Communication Science (September 2022 - July 2024) at University of Amsterdam, for her master's thesis - **Give An Option, or Give A Solution? The Role of Scepticism and Conversational Agents’ Decisional Guidance in Consumer Decision Making**.\n",
    "\n",
    "To be able to run this script, you need to first check the version of your Python, install the chatterbot library, and edit some codes in your python library to keep everything compatible with each other.  \n",
    "\n",
    "To learn about more details, please check the document **`Program_Setting_Up_Guide.ipynb`** in the same folder."
   ]
  },
  {
   "cell_type": "markdown",
   "id": "ce295dec-7e23-4eb2-ab39-5cd37f8ed167",
   "metadata": {},
   "source": [
    "## 1. Load required libraries and modules\n",
    "\n",
    "To conduct the lab experiment, the researcher used the python library `Chatterbot` (https://chatterbot.readthedocs.io/en/stable/index.html) to build and train chatbots with adapted English corpus data.\n",
    "\n",
    "The modules `ListTrainer` and `ChatterBotCorpusTrainer` are used to train the chatbot with pre-determined list data as well as corpus data.\n",
    "\n",
    "`os` is a module used to create/edit/manage/delete files and directories.\n",
    "\n",
    "`flask` is a framework used to build and run the front end of the following chatbot."
   ]
  },
  {
   "cell_type": "code",
   "execution_count": 1,
   "id": "429a8184-4672-4e16-9893-759d5e0d8d2d",
   "metadata": {},
   "outputs": [],
   "source": [
    "#import the ChatterBot library\n",
    "from chatterbot import ChatBot\n",
    "\n",
    "#import ListTrainer to train the bot based on pre-determined list data\n",
    "from chatterbot.trainers import ListTrainer\n",
    "\n",
    "#import CorpusTrainer to train the bot based on English corpus data\n",
    "from chatterbot.trainers import ChatterBotCorpusTrainer\n",
    "\n",
    "#import the os module to enable interacting with the operating system\n",
    "import os\n",
    "\n",
    "#load the flask framework to run web applications\n",
    "from flask import Flask, render_template, request"
   ]
  },
  {
   "cell_type": "markdown",
   "id": "3bae55a0-a7b0-490c-b825-6d923faa84c0",
   "metadata": {},
   "source": [
    "## 2. Build the chatbot\n",
    "This section is written to create a chatbot for the experimental condition 1 - Informative Decisional Guidance. This chatbot is named as `Alex01`. At the Front End (local web page), both chatbots in condition 1 and condition 2 are called '**Alex**'. \n",
    "\n",
    "The `SQLStorageAdapter` attribute is used to connect to SQL databases and create a local SQL database `database1.db` which will be used by this chatbot to store its trained data. \n",
    "\n",
    "The path to this database is specified with the database parameter `database_uri` ."
   ]
  },
  {
   "cell_type": "code",
   "execution_count": 2,
   "id": "33eaa003-0c9b-4b5d-855a-fad11bc6487d",
   "metadata": {},
   "outputs": [
    {
     "name": "stderr",
     "output_type": "stream",
     "text": [
      "[nltk_data] Downloading package averaged_perceptron_tagger to\n",
      "[nltk_data]     /Users/yilanwang/nltk_data...\n",
      "[nltk_data]   Package averaged_perceptron_tagger is already up-to-\n",
      "[nltk_data]       date!\n",
      "[nltk_data] Downloading package punkt to /Users/yilanwang/nltk_data...\n",
      "[nltk_data]   Package punkt is already up-to-date!\n",
      "[nltk_data] Downloading package stopwords to\n",
      "[nltk_data]     /Users/yilanwang/nltk_data...\n",
      "[nltk_data]   Package stopwords is already up-to-date!\n"
     ]
    }
   ],
   "source": [
    "#build and define the database's path of this chatbot\n",
    "bot = ChatBot('Alex01',\n",
    "              storage_adapter='chatterbot.storage.SQLStorageAdapter',\n",
    "    database_uri='sqlite:///database1.db'\n",
    "             )"
   ]
  },
  {
   "cell_type": "markdown",
   "id": "87c1ed40-effe-4c00-a0ba-fd7ae20f51cf",
   "metadata": {},
   "source": [
    "## 3. Train the chatbot\n",
    "This section is written to train the chatbot with the English Corpus data which is adapted and customised by **Yilan Wang**. The original corpus data comes from the developer **Gunther Cox**: https://github.com/gunthercox/chatterbot-corpus/tree/master/chatterbot_corpus/data/english\n",
    "\n",
    "Meanwhile, the list data defines which of the two stimulus material (the output data) used in this experiment is presented to a participant.\n",
    "\n",
    "\n",
    "### 1) Train with customised corpus data"
   ]
  },
  {
   "cell_type": "code",
   "execution_count": 3,
   "id": "4ce5c2d8-092d-46ba-b942-56eb0f288d34",
   "metadata": {},
   "outputs": [
    {
     "name": "stdout",
     "output_type": "stream",
     "text": [
      "Training botprofile.yml: [####################] 100%\n",
      "Training computers.yml: [####################] 100%\n",
      "Training conversations.yml: [####################] 100%\n",
      "Training food.yml: [####################] 100%\n",
      "Training gossip.yml: [####################] 100%\n",
      "Training greetings.yml: [####################] 100%\n",
      "Training health.yml: [####################] 100%\n",
      "Training humor.yml: [####################] 100%\n",
      "Training money.yml: [####################] 100%\n",
      "Training psychology.yml: [####################] 100%\n",
      "Training science.yml: [####################] 100%\n",
      "Training sports.yml: [####################] 100%\n"
     ]
    }
   ],
   "source": [
    "#train the chatbot with the customised corpus datasets\n",
    "#these .yml documents located in the folder 'Corpus'\n",
    "\n",
    "trainer = ChatterBotCorpusTrainer(bot)\n",
    "trainer.train(\"./Corpus/botprofile.yml\")\n",
    "trainer.train(\"./Corpus/computers.yml\")\n",
    "trainer.train(\"./Corpus/conversations.yml\")\n",
    "trainer.train(\"./Corpus/food.yml\")\n",
    "trainer.train(\"./Corpus/gossip.yml\")\n",
    "trainer.train(\"./Corpus/greetings.yml\")\n",
    "trainer.train(\"./Corpus/health.yml\")\n",
    "trainer.train(\"./Corpus/humor.yml\")\n",
    "trainer.train(\"./Corpus/money.yml\")\n",
    "trainer.train(\"./Corpus/psychology.yml\")\n",
    "trainer.train(\"./Corpus/science.yml\")\n",
    "trainer.train(\"./Corpus/sports.yml\")"
   ]
  },
  {
   "attachments": {},
   "cell_type": "markdown",
   "id": "47f6eabb-d573-4e44-a153-8cb82b809abd",
   "metadata": {},
   "source": [
    "### 2) Train with list data containing specific inputs and outputs\n",
    "This section decides which experimental stimuli that one participant is exposed to during the experiment. \n",
    "\n",
    "- In experimental condition 1, participants will read the text output 'I found some information about the cafés in Amsterdam.' and see an image from the Github link https://github.com/AlessiaWang/myimage/blob/main/stimuli.png?raw=true.\n",
    "\n",
    "- In experimental condition 2, participants will read the text output 'I’d love to recommend you to try the following cafés in Amsterdam.' and see the same image from the same Github link.\n",
    "\n",
    "The following codes are written for **experimental condition 1**."
   ]
  },
  {
   "cell_type": "code",
   "execution_count": 4,
   "id": "86f67643-6b5b-45a4-a181-d989ffa2d78c",
   "metadata": {},
   "outputs": [
    {
     "name": "stdout",
     "output_type": "stream",
     "text": [
      "List Trainer: [####################] 100%\n",
      "List Trainer: [####################] 100%\n",
      "List Trainer: [####################] 100%\n",
      "List Trainer: [####################] 100%\n",
      "List Trainer: [####################] 100%\n",
      "List Trainer: [####################] 100%\n",
      "List Trainer: [####################] 100%\n"
     ]
    }
   ],
   "source": [
    "#train the chatbot with list data\n",
    "trainer = ListTrainer(bot)\n",
    "\n",
    "trainer.train(['Find me cafés in Amsterdam', 'I found some information about the cafés in Amsterdam. \\n <img src=\"https://github.com/AlessiaWang/myimage/blob/main/stimuli.png?raw=true\" height=\"500\">'])\n",
    "trainer.train(['Find me cafe in Amsterdam', 'I found some information about the cafés in Amsterdam. \\n <img src=\"https://github.com/AlessiaWang/myimage/blob/main/stimuli.png?raw=true\" height=\"500\">'])\n",
    "trainer.train(['Find cafés in Amsterdam', 'I found some information about the cafés in Amsterdam. \\n <img src=\"https://github.com/AlessiaWang/myimage/blob/main/stimuli.png?raw=true\" height=\"500\">'])\n",
    "trainer.train(['Find cafe in Amsterdam', 'I found some information about the cafés in Amsterdam. \\n <img src=\"https://github.com/AlessiaWang/myimage/blob/main/stimuli.png?raw=true\" height=\"500\">'])\n",
    "trainer.train(['find me places to eat in Amsterdam', 'I found some information about the cafés in Amsterdam. \\n <img src=\"https://github.com/AlessiaWang/myimage/blob/main/stimuli.png?raw=true\" height=\"500\">'])\n",
    "trainer.train(['find me places to drink in Amsterdam', 'I found some information about the cafés in Amsterdam. \\n <img src=\"https://github.com/AlessiaWang/myimage/blob/main/stimuli.png?raw=true\" height=\"500\">'])\n",
    "trainer.train(['find me places to eat or drink in Amsterdam', 'I found some information about the cafés in Amsterdam. \\n <img src=\"https://github.com/AlessiaWang/myimage/blob/main/stimuli.png?raw=true\" height=\"500\">'])"
   ]
  },
  {
   "cell_type": "markdown",
   "id": "a985630c-0ec6-4566-98f4-e5b693292652",
   "metadata": {},
   "source": [
    "trainer = ListTrainer(bot)\n",
    "trainer.train([\n",
    "    'Hello, how are you?',\n",
    "    'I am doing well!',\n",
    "    'That is good to hear.',\n",
    "    'Thank you :D'\n",
    "])"
   ]
  },
  {
   "cell_type": "markdown",
   "id": "eb6eff82-498e-4bd6-bf09-192025e567cc",
   "metadata": {},
   "source": [
    "## 4. Flask Application\n",
    "This section writes and runs the function which allows participants to interact with the chatbot on a web Front End via the Flask App.\n",
    "\n",
    "**Notice:**\n",
    "\n",
    "- Every time the **kernel restarts**, all the codes in this script need to be run again to be able to run the following Front-End.\n",
    "\n",
    "- You may directly click on the link that is provided by the program and open it, or you may copy the following address http://127.0.0.1:3004, paste it in the URL bar/address bar on your web browser, and go.\n",
    "\n",
    "- You need to **refresh the html page of the Front End on your browser before each participant starts** interacting with the chatbot."
   ]
  },
  {
   "cell_type": "code",
   "execution_count": 5,
   "id": "013e566d-239b-476c-ae7d-108b770dd0bd",
   "metadata": {},
   "outputs": [],
   "source": [
    "#build a flask application 'app1'\n",
    "app1 = Flask(__name__)"
   ]
  },
  {
   "cell_type": "code",
   "execution_count": null,
   "id": "5f4642be-0fc7-40cf-b153-9c5fdce9d372",
   "metadata": {},
   "outputs": [
    {
     "name": "stdout",
     "output_type": "stream",
     "text": [
      " * Serving Flask app '__main__'\n",
      " * Debug mode: off\n"
     ]
    },
    {
     "name": "stderr",
     "output_type": "stream",
     "text": [
      "\u001b[31m\u001b[1mWARNING: This is a development server. Do not use it in a production deployment. Use a production WSGI server instead.\u001b[0m\n",
      " * Running on all addresses (0.0.0.0)\n",
      " * Running on http://127.0.0.1:3004\n",
      " * Running on http://146.50.225.4:3004\n",
      "\u001b[33mPress CTRL+C to quit\u001b[0m\n",
      "146.50.225.4 - - [19/Jun/2024 14:24:50] code 400, message Bad request version ('\\x02h2\\x08http/1.1\\x00')\n",
      "146.50.225.4 - - [19/Jun/2024 14:24:50] \"\u001b[31m\u001b[1m\\x16\\x03\\x01\\x06À\\x01\\x00\\x06¼\\x03\\x03ÉY \\x09ñ¸wy]I\\x18\\x12 B\\x975\\x02?9\\x12\\x87.øÓ¢\\x0c§o\\x8eg¬¼ .\\x9fsBmÆ?6Ø\\x94¨\\x8bÓÜ\\x8c\\x8cÍ\\x0cVYç\\x96\\x8aEÈÿ\\x05\\x82\\x9fÚ¥5\\x00 JJ\\x13\\x01\\x13\\x02\\x13\\x03À+À/À,À0Ì©Ì¨À\\x13À\\x14\\x00\\x9c\\x00\\x9d\\x00/\\x005\\x01\\x00\\x06S::\\x00\\x00\\x00-\\x00\\x02\\x01\\x01\\x00\\x0d\\x00\\x12\\x00\\x10\\x04\\x03\\x08\\x04\\x04\\x01\\x05\\x03\\x08\\x05\\x05\\x01\\x08\\x06\\x06\\x01\\x00\\x10\\x00\\x0e\\x00\\x0c\\x02h2\\x08http/1.1\\x00\u001b[0m\" 400 -\n",
      "146.50.225.4 - - [19/Jun/2024 14:24:50] code 400, message Bad request version ('ÿl')\n",
      "146.50.225.4 - - [19/Jun/2024 14:24:50] \"\u001b[31m\u001b[1m\\x16\\x03\\x01\\x06 \\x01\\x00\\x06\\x9c\\x03\\x03\\x14%ïfÀ\\x7f±]@\\x9bü\\x82ýE_mÊ\\x97\\x9c\\x80×:\\x8f\\x0c\\x1em¨\\x95½6\\x92; ÑOÏAë~\\x1eyùüBøºÊ¶R`ÃR$Áî#ßå#5ö3Ù+à\\x00 ºº\\x13\\x01\\x13\\x02\\x13\\x03À+À/À,À0Ì©Ì¨À\\x13À\\x14\\x00\\x9c\\x00\\x9d\\x00/\\x005\\x01\\x00\\x063\\x1a\\x1a\\x00\\x00þ\\x0d\\x00º\\x00\\x00\\x01\\x00\\x01Õ\\x00 ±æëu\\x1fæí(\\x0b@àp±\\x1bD\\x8d¶\\x9cn?À\\x1eòÇÆ\\x82j\\x8cñ\\x1a²6\\x00\\x90é\\x8bgß¾½b4à\\x95ì\\x17¾×æÕ\\x11[·3\\x1c¡ÝÞa5õ\\x9dëqAÉ\\x16³Zæ¾ü\\x1eõ\\x8fiñGCd\\x96»öó\\x9dWïsóÃg÷ßt£Ù\"%É§\"\\x11aÿ\\x06æô@\\x0d~6Q|ß\\x8fÊê<\\x9b¦\\x0cÿl\u001b[0m\" 400 -\n",
      "146.50.225.4 - - [19/Jun/2024 14:24:50] \"GET / HTTP/1.1\" 200 -\n",
      "146.50.225.4 - - [19/Jun/2024 14:25:03] \"GET /get?msg=find%20me%20cafes%20in%20amsterdam HTTP/1.1\" 200 -\n",
      "146.50.225.4 - - [19/Jun/2024 14:25:06] code 400, message Bad request version ('+Rqd\\x18RnÁÉÐ@tô\\x84N\\x07')\n",
      "146.50.225.4 - - [19/Jun/2024 14:25:06] \"\u001b[31m\u001b[1m\\x16\\x03\\x01\\x06à\\x01\\x00\\x06Ü\\x03\\x035úP0{i\\x9eE\\x9e¦\\x91Dªð\\x19Ò\\x1f\\x15\\x00\\x8fáö`\\x9a!qÁKÖ­LW |ãÉà­wq#®\\x9f\\x8d´çÍÂ\\x1cý\\x9d=hyÇ¡QÉ\\x7fk2h±xr\\x00 ::\\x13\\x01\\x13\\x02\\x13\\x03À+À/À,À0Ì©Ì¨À\\x13À\\x14\\x00\\x9c\\x00\\x9d\\x00/\\x005\\x01\\x00\\x06sºº\\x00\\x00\\x003\\x04ï\\x04ízz\\x00\\x01\\x00c\\x99\\x04ÀMAî\\x92X¥Eßö\\x99\\x1dà*Â\\x0c\\x8düÝli}¥wA¢¹¦+¦&\\x17u$\\x92\\x92\\x7f\\x07³æÕ5ÈËTäõ\\x9dòf\\x9f^l diPH\\x89\"\\x09\\x88]¨WBû[`×<\\x16\\x8c2nïuZö4¯ïéa\\x86T1QG öEG\\x0fúk\\x0b2\\x8dÉû\"\\x8e\\x9a\\x9c\\x0e{\\x00³\\x92,j\\x16\\x08\\x9fµ¨ôÖ\\x1a\\x92\\x15\\x01Ò)\\x08\\x0b:\\x05\\x90\\x07\\x1dô%»ða{,Ú9zÇqù\\x06|sª\\x1b¹)5\\x87\\x84\\x1e¶\\x15`ßwS.\\x80Â\\x0e[\\x01³¨8¬u\\x1eÊ¼\\x0f^Z¿BÊ¦À\\x11-µCzo`ÊÒú\\x1eÄi\\x19ÄÁ +Rqd\\x18RnÁÉÐ@tô\\x84N\\x07\u001b[0m\" 400 -\n",
      "146.50.225.4 - - [19/Jun/2024 14:25:06] \"GET / HTTP/1.1\" 200 -\n",
      "146.50.225.4 - - [19/Jun/2024 14:25:06] code 400, message Bad request version ('\\x14(\\x80\\x00¥£hv9º§H\\x1b')\n",
      "146.50.225.4 - - [19/Jun/2024 14:25:06] \"\u001b[31m\u001b[1m\\x16\\x03\\x01\\x06À\\x01\\x00\\x06¼\\x03\\x03Õþ½CìKxIô\\x89C¢Ö\\x897õ\\x96O\\x831Y\\x1a\\x83\"\\x03þ\\x0d\\x859â\\x16Z oÑ¬®Kñ \\x82¥Ñ\\x1e\\\\|\\x89rweÊê¢\\x90Ëb×\\x92\\x7f¦\\x0b\\x1a³¿¹\\x00 êê\\x13\\x01\\x13\\x02\\x13\\x03À+À/À,À0Ì©Ì¨À\\x13À\\x14\\x00\\x9c\\x00\\x9d\\x00/\\x005\\x01\\x00\\x06Súú\\x00\\x00\\x003\\x04ï\\x04íÚÚ\\x00\\x01\\x00c\\x99\\x04À¯àCÕùÔt\\x1bÈE9\\x19U\\x1bØz\\x88*¹´÷P\\x8aò¿¼\\x914Ú\\x1e\\x14(\\x80\\x00¥£hv9º§H\\x1b\u001b[0m\" 400 -\n",
      "Exception during reset or similar\n",
      "Traceback (most recent call last):\n",
      "  File \"/Library/Frameworks/Python.framework/Versions/3.12/lib/python3.12/site-packages/sqlalchemy/pool.py\", line 751, in _finalize_fairy\n",
      "    fairy._reset(pool)\n",
      "  File \"/Library/Frameworks/Python.framework/Versions/3.12/lib/python3.12/site-packages/sqlalchemy/pool.py\", line 938, in _reset\n",
      "    pool._dialect.do_rollback(self)\n",
      "  File \"/Library/Frameworks/Python.framework/Versions/3.12/lib/python3.12/site-packages/sqlalchemy/engine/default.py\", line 486, in do_rollback\n",
      "    dbapi_connection.rollback()\n",
      "sqlite3.ProgrammingError: SQLite objects created in a thread can only be used in that same thread. The object was created in thread id 6256390144 and this is thread id 6239563776.\n",
      "Exception closing connection <sqlite3.Connection object at 0x1092b2a70>\n",
      "Traceback (most recent call last):\n",
      "  File \"/Library/Frameworks/Python.framework/Versions/3.12/lib/python3.12/site-packages/sqlalchemy/pool.py\", line 751, in _finalize_fairy\n",
      "    fairy._reset(pool)\n",
      "  File \"/Library/Frameworks/Python.framework/Versions/3.12/lib/python3.12/site-packages/sqlalchemy/pool.py\", line 938, in _reset\n",
      "    pool._dialect.do_rollback(self)\n",
      "  File \"/Library/Frameworks/Python.framework/Versions/3.12/lib/python3.12/site-packages/sqlalchemy/engine/default.py\", line 486, in do_rollback\n",
      "    dbapi_connection.rollback()\n",
      "sqlite3.ProgrammingError: SQLite objects created in a thread can only be used in that same thread. The object was created in thread id 6256390144 and this is thread id 6239563776.\n",
      "\n",
      "During handling of the above exception, another exception occurred:\n",
      "\n",
      "Traceback (most recent call last):\n",
      "  File \"/Library/Frameworks/Python.framework/Versions/3.12/lib/python3.12/site-packages/sqlalchemy/pool.py\", line 342, in _close_connection\n",
      "    self._dialect.do_close(connection)\n",
      "  File \"/Library/Frameworks/Python.framework/Versions/3.12/lib/python3.12/site-packages/sqlalchemy/engine/default.py\", line 492, in do_close\n",
      "    dbapi_connection.close()\n",
      "sqlite3.ProgrammingError: SQLite objects created in a thread can only be used in that same thread. The object was created in thread id 6256390144 and this is thread id 6239563776.\n",
      "146.50.225.4 - - [19/Jun/2024 14:39:13] \"GET /get?msg=hi HTTP/1.1\" 200 -\n",
      "146.50.225.4 - - [19/Jun/2024 14:39:15] \"GET / HTTP/1.1\" 200 -\n",
      "146.50.225.4 - - [19/Jun/2024 15:04:32] \"GET /get?msg=what%20is%20water? HTTP/1.1\" 200 -\n",
      "146.50.197.163 - - [19/Jun/2024 15:04:37] \"GET / HTTP/1.1\" 200 -\n",
      "146.50.197.163 - - [19/Jun/2024 15:04:42] \"GET /get?msg=Hii HTTP/1.1\" 200 -\n",
      "No value for search_text was available on the provided input\n",
      "146.50.197.163 - - [19/Jun/2024 15:04:43] \"GET /get?msg= HTTP/1.1\" 200 -\n",
      "146.50.225.4 - - [19/Jun/2024 15:04:45] \"GET /get?msg=do%20you%20know%20what%20is%20baseball? HTTP/1.1\" 200 -\n",
      "146.50.225.4 - - [19/Jun/2024 15:05:02] \"GET /get?msg=who%20invented%20computer? HTTP/1.1\" 200 -\n",
      "146.50.225.4 - - [19/Jun/2024 15:05:18] \"GET /get?msg=who%20invented%20the%20internet HTTP/1.1\" 200 -\n",
      "146.50.225.4 - - [19/Jun/2024 15:05:48] \"GET /get?msg=find%20me%20cafes%20in%20amsterdam%20 HTTP/1.1\" 200 -\n",
      "146.50.225.4 - - [19/Jun/2024 15:11:54] \"GET / HTTP/1.1\" 200 -\n"
     ]
    }
   ],
   "source": [
    "#write a function for 'app1' to run the Flask App as the front end of this chatbot \n",
    "@app1.route(\"/\")\n",
    "def home1():    \n",
    "    return render_template(\"home01.html\") #run the App using home01.html as template\n",
    "@app1.route(\"/get\")\n",
    "def get_bot_response1():    \n",
    "    userText = request.args.get('msg')    \n",
    "    return str(bot.get_response(userText)) #show the output data in the front end from the Output given by bot.get_response(Input)\n",
    "if __name__ == \"__main__\":    \n",
    "    app1.run(host='0.0.0.0', port=3004) #define the port as 3004 so that this App can run together with the other App in the other experimental condition"
   ]
  },
  {
   "cell_type": "code",
   "execution_count": null,
   "id": "301780df-c385-47b4-a92e-be9e34505749",
   "metadata": {},
   "outputs": [],
   "source": [
    "#run the Application 'app1'\n",
    "$ python app1.py"
   ]
  },
  {
   "cell_type": "code",
   "execution_count": null,
   "id": "465fe087-3bc4-483e-9110-2e167e1c2a77",
   "metadata": {},
   "outputs": [],
   "source": []
  }
 ],
 "metadata": {
  "kernelspec": {
   "display_name": "Python 3 (ipykernel)",
   "language": "python",
   "name": "python3"
  },
  "language_info": {
   "codemirror_mode": {
    "name": "ipython",
    "version": 3
   },
   "file_extension": ".py",
   "mimetype": "text/x-python",
   "name": "python",
   "nbconvert_exporter": "python",
   "pygments_lexer": "ipython3",
   "version": "3.12.3"
  }
 },
 "nbformat": 4,
 "nbformat_minor": 5
}
